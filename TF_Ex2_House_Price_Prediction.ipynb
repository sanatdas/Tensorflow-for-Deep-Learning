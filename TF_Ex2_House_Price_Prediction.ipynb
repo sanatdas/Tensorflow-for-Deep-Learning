{
  "nbformat": 4,
  "nbformat_minor": 0,
  "metadata": {
    "colab": {
      "name": "TF Ex2-House Price Prediction.ipynb",
      "provenance": [],
      "collapsed_sections": [],
      "authorship_tag": "ABX9TyNWcHq4/zXBinvTbbLoqJvl",
      "include_colab_link": true
    },
    "kernelspec": {
      "name": "python3",
      "display_name": "Python 3"
    }
  },
  "cells": [
    {
      "cell_type": "markdown",
      "metadata": {
        "id": "view-in-github",
        "colab_type": "text"
      },
      "source": [
        "<a href=\"https://colab.research.google.com/github/sanatdas/Tensorflow-for-Deep-Learning/blob/master/TF_Ex2_House_Price_Prediction.ipynb\" target=\"_parent\"><img src=\"https://colab.research.google.com/assets/colab-badge.svg\" alt=\"Open In Colab\"/></a>"
      ]
    },
    {
      "cell_type": "markdown",
      "metadata": {
        "id": "P3zNr9BgpM5Y",
        "colab_type": "text"
      },
      "source": [
        "Ex1 - **House Price Prediction**"
      ]
    },
    {
      "cell_type": "markdown",
      "metadata": {
        "id": "Kk6XY5_QaB1m",
        "colab_type": "text"
      },
      "source": [
        "Build a neural network that predicts the price of a house according to a simple formula.\n",
        "\n",
        "So, imagine if house pricing was as easy as a house costs 50k + 50k per bedroom, so that a 1 bedroom house costs 100k, a 2 bedroom house costs 150k etc.\n",
        "\n",
        "How would you create a neural network that learns this relationship so that it would predict a 7 bedroom house as costing close to 400k etc.\n",
        "\n",
        "**Hint**: Your network might work better if you scale the house price down. You don't have to give the answer 400...it might be better to create something that predicts the number 4, and then your answer is in the 'hundreds of thousands' etc.\n",
        "\n"
      ]
    },
    {
      "cell_type": "code",
      "metadata": {
        "id": "FOtaPkqNSPLN",
        "colab_type": "code",
        "colab": {
          "base_uri": "https://localhost:8080/",
          "height": 71
        },
        "outputId": "85cd9e8a-39e3-461f-a9c2-dccd81ef8b30"
      },
      "source": [
        "import tensorflow as tf\n",
        "import numpy as np\n",
        "from tensorflow import keras\n",
        "\n",
        "def predict_houseprice(y_val):\n",
        "  model = tf.keras.Sequential([keras.layers.Dense(units=1, input_shape=[1])])\n",
        "  model.compile(loss='mean_squared_error', optimizer='sgd')\n",
        "  xs = np.array([1.0,   2.0,   3.0, 4.0, 5.0, 6.0, 8.0, 9.0, 10.0,11,12,13], dtype=float)\n",
        "  ys = np.array([100.0, 150.0, 200.0, 250.0, 300.0, 350.0, 450.0, 500.0, 550.0,600.0, 650.0,700.0],dtype=float)\n",
        "  model.fit(xs,ys,epochs=500,verbose=False)\n",
        "  return (model.predict(y_val)[0]+1) // 100\n",
        "  \n",
        "  \n",
        "prediction = predict_houseprice([7.0])\n",
        "print(\"predicted price:{}\".format(prediction))"
      ],
      "execution_count": 22,
      "outputs": [
        {
          "output_type": "stream",
          "text": [
            "WARNING:tensorflow:11 out of the last 11 calls to <function Model.make_predict_function.<locals>.predict_function at 0x7ff51c214bf8> triggered tf.function retracing. Tracing is expensive and the excessive number of tracings could be due to (1) creating @tf.function repeatedly in a loop, (2) passing tensors with different shapes, (3) passing Python objects instead of tensors. For (1), please define your @tf.function outside of the loop. For (2), @tf.function has experimental_relax_shapes=True option that relaxes argument shapes that can avoid unnecessary retracing. For (3), please refer to https://www.tensorflow.org/tutorials/customization/performance#python_or_tensor_args and https://www.tensorflow.org/api_docs/python/tf/function for  more details.\n",
            "predicted price:[4.]\n"
          ],
          "name": "stdout"
        }
      ]
    }
  ]
}