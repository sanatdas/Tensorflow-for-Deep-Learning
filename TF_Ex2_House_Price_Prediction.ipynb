{
  "nbformat": 4,
  "nbformat_minor": 0,
  "metadata": {
    "colab": {
      "name": "TF Ex2-House Price Prediction.ipynb",
      "provenance": [],
      "collapsed_sections": [],
      "authorship_tag": "ABX9TyNzxP1lwMUFPyarAcFAIKee",
      "include_colab_link": true
    },
    "kernelspec": {
      "name": "python3",
      "display_name": "Python 3"
    }
  },
  "cells": [
    {
      "cell_type": "markdown",
      "metadata": {
        "id": "view-in-github",
        "colab_type": "text"
      },
      "source": [
        "<a href=\"https://colab.research.google.com/github/sanatdas/Tensorflow-for-Deep-Learning/blob/master/TF_Ex2_House_Price_Prediction.ipynb\" target=\"_parent\"><img src=\"https://colab.research.google.com/assets/colab-badge.svg\" alt=\"Open In Colab\"/></a>"
      ]
    },
    {
      "cell_type": "markdown",
      "metadata": {
        "id": "P3zNr9BgpM5Y",
        "colab_type": "text"
      },
      "source": [
        "Ex1 - **House Price Prediction**"
      ]
    },
    {
      "cell_type": "code",
      "metadata": {
        "id": "-wF_RhAopQtR",
        "colab_type": "code",
        "colab": {
          "base_uri": "https://localhost:8080/",
          "height": 34
        },
        "outputId": "777d3107-6889-42da-b8b0-f06213d93e28"
      },
      "source": [
        "import tensorflow as tf\n",
        "import numpy as np\n",
        "from tensorflow import keras\n",
        "#model1 = tf.keras.Sequential([tf.keras.layers.Dense(units=1, input_shape=[])])\n",
        "model1 = tf.keras.Sequential([keras.layers.Dense(units=1, input_shape=[1])])\n",
        "#model1.compile(loss='mean_squared_error',optimizer=tf.keras.optimizer.Adam(0.1))\n",
        "model1.compile(loss='mean_squared_error', optimizer=tf.keras.optimizers.Adam(0.1))\n",
        "xs = [1,2,3,4,5,6,7,8,9,10]\n",
        "ys = [1,1.5,2,2.5,3,3.5,4,4.5,5,5.5]\n",
        "model1.fit(xs,ys,epochs=500,verbose=False)\n",
        "print(model1.predict([7.0]))"
      ],
      "execution_count": 12,
      "outputs": [
        {
          "output_type": "stream",
          "text": [
            "[[4.]]\n"
          ],
          "name": "stdout"
        }
      ]
    }
  ]
}